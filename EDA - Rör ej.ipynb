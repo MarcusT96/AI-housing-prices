{
 "cells": [
  {
   "cell_type": "code",
   "execution_count": null,
   "id": "94eb15cb",
   "metadata": {},
   "outputs": [],
   "source": [
    "import numpy as np\n",
    "import pandas as pd\n",
    "import matplotlib.pyplot as plt\n",
    "import matplotlib.image as mpimg\n",
    "from sklearn.model_selection import train_test_split, GridSearchCV\n",
    "import seaborn as sns\n",
    "from sklearn.linear_model import LinearRegression"
   ]
  },
  {
   "cell_type": "code",
   "execution_count": null,
   "id": "e8ea2661",
   "metadata": {},
   "outputs": [],
   "source": [
    "#Importerar filen \n",
    "housing = pd.read_csv(\"housing.csv\")"
   ]
  },
  {
   "cell_type": "code",
   "execution_count": null,
   "id": "4ffc4ae4",
   "metadata": {},
   "outputs": [],
   "source": [
    "raw_df = pd.DataFrame(housing)"
   ]
  },
  {
   "cell_type": "code",
   "execution_count": null,
   "id": "0983d8a5",
   "metadata": {},
   "outputs": [],
   "source": [
    "raw_df.head()"
   ]
  },
  {
   "cell_type": "code",
   "execution_count": null,
   "id": "98d8bffa",
   "metadata": {},
   "outputs": [],
   "source": [
    "raw_df.info()"
   ]
  },
  {
   "cell_type": "code",
   "execution_count": null,
   "id": "9135486f",
   "metadata": {},
   "outputs": [],
   "source": [
    "df = raw_df.dropna()\n",
    "df.info()"
   ]
  },
  {
   "cell_type": "code",
   "execution_count": null,
   "id": "1225a999",
   "metadata": {},
   "outputs": [],
   "source": [
    "less_than_500001 = df[df[\"median_house_value\"] <= 500000]\n",
    "# Check so that it worked\n",
    "less_than_500001[less_than_500001[\"median_house_value\"] > 500000]"
   ]
  },
  {
   "cell_type": "code",
   "execution_count": null,
   "id": "7416f255",
   "metadata": {},
   "outputs": [],
   "source": [
    "df = less_than_500001\n",
    "df"
   ]
  },
  {
   "cell_type": "code",
   "execution_count": null,
   "id": "0836933b",
   "metadata": {},
   "outputs": [],
   "source": [
    "plt.figure(figsize=(10, 10))\n",
    "\n",
    "# Backgroud image\n",
    "background_img = mpimg.imread('./pictures/california-map.jpg')\n",
    "extent = [-124.48, -114.13, 32.53, 42.01]\n",
    "scale_factor = 1.08  # Adjust the scale factor as needed for the desired enlargement\n",
    "new_extent = [\n",
    "    extent[0] - (extent[1] - extent[0]) * (scale_factor - 1) / 2,\n",
    "    extent[1] + (extent[1] - extent[0]) * (scale_factor - 1) / 2,\n",
    "    extent[2] - (extent[3] - extent[2]) * (scale_factor - 1) / 2,\n",
    "    extent[3] + (extent[3] - extent[2]) * (scale_factor - 1) / 2\n",
    "]\n",
    "plt.imshow(background_img, extent=new_extent, aspect='auto')\n",
    "\n",
    "# Scatter plot\n",
    "scatter = plt.scatter(df['longitude'], df['latitude'], c=df['median_house_value'], cmap='viridis', alpha=0.6)\n",
    "plt.colorbar(scatter, label='Median House Value')\n",
    "plt.xlabel('Longitude')\n",
    "plt.ylabel('Latitude')\n",
    "plt.title('Geographical Distribution of Houses')\n",
    "plt.show()"
   ]
  },
  {
   "cell_type": "code",
   "execution_count": null,
   "id": "cd4611c7",
   "metadata": {},
   "outputs": [],
   "source": [
    "# Histogrammen hjälper till att förstå fördelningen och spridningen av de numeriska variablerna i datasetet.\n",
    "\n",
    "df.hist(bins=54, figsize=(20, 15)) # Skapar histogram för alla numeriska kolumner i df och en figurstorlek på 20x15.\n",
    "\n",
    "for ax in plt.gcf().axes:\n",
    "    ax.set_ylabel('Number of Houses')\n",
    "\n",
    "plt.show()"
   ]
  },
  {
   "cell_type": "code",
   "execution_count": null,
   "id": "11770d86",
   "metadata": {},
   "outputs": [],
   "source": [
    "plt.figure(figsize=(12, 8))\n",
    "scatter = plt.scatter(df['median_income'], df['median_house_value'], \n",
    "                      c=df['ocean_proximity'].astype('category').cat.codes, # astype('category').cat.codes konverterar kategoriska värden till numeriska koder för färgning.\n",
    "                      cmap='viridis', alpha=0.6) # Alpha är satt till 0.6 för att hantera överlappande punkter och göra plottet mer läsbart.\n",
    "plt.colorbar(scatter, label='Ocean Proximity') # Genom att använda färg för att visa ocean_proximity kan vi se om närheten till havet påverkar husvärden.\n",
    "plt.xlabel('Median Income (scaled * 10,000)')\n",
    "plt.ylabel('Median House Value ($)')\n",
    "plt.title('Median Income vs Median House Value')\n",
    "plt.grid(True)\n",
    "\n",
    "plt.show()"
   ]
  },
  {
   "cell_type": "code",
   "execution_count": null,
   "id": "b12f6ea7",
   "metadata": {},
   "outputs": [],
   "source": [
    "df = df.join(pd.get_dummies(df.ocean_proximity)).drop([\"ocean_proximity\"], axis=1)"
   ]
  },
  {
   "cell_type": "code",
   "execution_count": null,
   "id": "0c2202af",
   "metadata": {},
   "outputs": [],
   "source": [
    "plt.figure(figsize=(15,8))\n",
    "sns.heatmap(df.corr(), annot=True, cmap=\"YlGnBu\")"
   ]
  },
  {
   "cell_type": "code",
   "execution_count": null,
   "id": "df49f356",
   "metadata": {},
   "outputs": [],
   "source": [
    "#X = housing.drop(columns=['median_house_value'], axis=1)\n",
    "#y = housing['median_house_value']\n",
    "#X_train, X_test, y_train,  y_test = train_test_split(X,y, test_size=0.2, random_state=56)"
   ]
  },
  {
   "cell_type": "code",
   "execution_count": null,
   "id": "4f1f9eff",
   "metadata": {},
   "outputs": [],
   "source": [
    "# Assuming df is your DataFrame\n",
    "# Let's select the relevant columns for the features and target variable\n",
    "X = df[['longitude', 'latitude', 'housing_median_age', 'total_rooms', 'population', 'median_income']]\n",
    "y = df['median_house_value'] "
   ]
  },
  {
   "cell_type": "code",
   "execution_count": null,
   "id": "3bb55102",
   "metadata": {},
   "outputs": [],
   "source": [
    "\n",
    "X_train.head()"
   ]
  },
  {
   "cell_type": "code",
   "execution_count": null,
   "id": "32e24c26",
   "metadata": {},
   "outputs": [],
   "source": [
    "\n",
    "X_train.describe()"
   ]
  },
  {
   "cell_type": "code",
   "execution_count": null,
   "id": "08ed9850",
   "metadata": {},
   "outputs": [],
   "source": [
    "\n",
    "plt.figure(figsize=(5,5))\n",
    "sns.pairplot(housing)\n",
    "plt.show()"
   ]
  },
  {
   "cell_type": "code",
   "execution_count": null,
   "id": "894ad541",
   "metadata": {},
   "outputs": [],
   "source": [
    "X_train, X_test, y_train, y_test = train_test_split(X, y, test_size=0.2, random_state=0)\n",
    "\n",
    "print(\"\\nTraining data size:\", X_train.shape)\n",
    "print(\"Testing data size:\", X_test.shape)"
   ]
  },
  {
   "cell_type": "code",
   "execution_count": null,
   "id": "88bf98f5",
   "metadata": {},
   "outputs": [],
   "source": [
    "# Fit the training data to a Linear Regression model\n",
    "regression_model = LinearRegression()\n",
    "regression_model.fit(X_train, y_train)\n",
    "\n",
    "# Show your regression model's score\n",
    "train_score = regression_model.score(X_train, y_train)\n",
    "test_score = regression_model.score(X_test, y_test)\n",
    "print(f'\\nTraining score: {train_score}')\n",
    "print(f'Testing score: {test_score}')"
   ]
  },
  {
   "cell_type": "code",
   "execution_count": null,
   "id": "8524fde7",
   "metadata": {},
   "outputs": [],
   "source": [
    "# Get the coefficients and intercept of the trained regression model\n",
    "coefficients = regression_model.coef_\n",
    "intercept = regression_model.intercept_\n",
    "\n",
    "# Select three samples from the testing set\n",
    "samples_to_predict = X_test\n",
    "\n",
    "# Manually calculate the predictions without using loops\n",
    "predictions = np.dot(samples_to_predict.values, coefficients.reshape(-1, 1)).flatten() + intercept\n",
    "\n",
    "# Get the actual data for the selected samples from the dataset\n",
    "actual_data = y_test\n",
    "\n",
    "# Print the predictions and actual data\n",
    "for pred, actual in zip(predictions, actual_data):\n",
    "    print(\"Prediction:\", pred)\n",
    "    print(\"Actual data:\", actual)\n",
    "    acc = regression_model.score(X_test, y_test)\n",
    "    print(acc*100, '%')\n",
    "    print()"
   ]
  },
  {
   "cell_type": "code",
   "execution_count": null,
   "id": "674a13f7",
   "metadata": {},
   "outputs": [],
   "source": []
  }
 ],
 "metadata": {
  "kernelspec": {
   "display_name": "Python 3",
   "language": "python",
   "name": "python3"
  },
  "language_info": {
   "codemirror_mode": {
    "name": "ipython",
    "version": 3
   },
   "file_extension": ".py",
   "mimetype": "text/x-python",
   "name": "python",
   "nbconvert_exporter": "python",
   "pygments_lexer": "ipython3",
   "version": "3.11.7"
  }
 },
 "nbformat": 4,
 "nbformat_minor": 5
}
