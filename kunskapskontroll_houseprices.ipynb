{
 "cells": [
  {
   "cell_type": "markdown",
   "id": "21f9c39e",
   "metadata": {},
   "source": [
    "# Kunskapskontroll"
   ]
  },
  {
   "cell_type": "markdown",
   "id": "a9db5c1e-04b4-4663-bd52-99c7cfbf3871",
   "metadata": {},
   "source": [
    "### Fyll i uppgifterna nedan innan du lämnar in på LearnPoint: \n",
    "Namn på samtliga gruppmedlemmar: "
   ]
  },
  {
   "cell_type": "markdown",
   "id": "a3b01436",
   "metadata": {},
   "source": [
    "Marcus Turesson, Pontus Paulsson, Jonathan Karlsson, Rasmus Hellgren, Tommy Wang"
   ]
  },
  {
   "cell_type": "markdown",
   "id": "a96931ff",
   "metadata": {},
   "source": [
    "# Code"
   ]
  },
  {
   "cell_type": "code",
   "execution_count": 1,
   "id": "ee4fcb98",
   "metadata": {},
   "outputs": [],
   "source": [
    "import numpy as np\n",
    "import pandas as pd\n",
    "import matplotlib.pyplot as plt\n",
    "import matplotlib.image as mpimg\n",
    "from sklearn.model_selection import train_test_split, GridSearchCV\n",
    "import seaborn as sns\n",
    "from sklearn.linear_model import LinearRegression\n",
    "from sklearn.ensemble import RandomForestRegressor\n"
   ]
  },
  {
   "cell_type": "code",
   "execution_count": null,
   "id": "7c9a2da8-da64-49be-9ca3-0fc8e48179bc",
   "metadata": {},
   "outputs": [],
   "source": []
  },
  {
   "cell_type": "code",
   "execution_count": 2,
   "id": "147ea5de",
   "metadata": {},
   "outputs": [],
   "source": [
    "# Below, set your own path where you have stored the data file. \n",
    "housing = pd.read_csv(\"housing.csv\")"
   ]
  },
  {
   "cell_type": "code",
   "execution_count": 3,
   "id": "8e942b46-3ffb-4747-94df-3a1ef267a62b",
   "metadata": {},
   "outputs": [],
   "source": [
    "raw_df = pd.DataFrame(housing)"
   ]
  },
  {
   "cell_type": "markdown",
   "id": "fee19169",
   "metadata": {},
   "source": [
    "## EDA"
   ]
  },
  {
   "cell_type": "code",
   "execution_count": 4,
   "id": "5e566f5f",
   "metadata": {},
   "outputs": [
    {
     "data": {
      "text/html": [
       "<div>\n",
       "<style scoped>\n",
       "    .dataframe tbody tr th:only-of-type {\n",
       "        vertical-align: middle;\n",
       "    }\n",
       "\n",
       "    .dataframe tbody tr th {\n",
       "        vertical-align: top;\n",
       "    }\n",
       "\n",
       "    .dataframe thead th {\n",
       "        text-align: right;\n",
       "    }\n",
       "</style>\n",
       "<table border=\"1\" class=\"dataframe\">\n",
       "  <thead>\n",
       "    <tr style=\"text-align: right;\">\n",
       "      <th></th>\n",
       "      <th>longitude</th>\n",
       "      <th>latitude</th>\n",
       "      <th>housing_median_age</th>\n",
       "      <th>total_rooms</th>\n",
       "      <th>total_bedrooms</th>\n",
       "      <th>population</th>\n",
       "      <th>households</th>\n",
       "      <th>median_income</th>\n",
       "      <th>median_house_value</th>\n",
       "      <th>ocean_proximity</th>\n",
       "    </tr>\n",
       "  </thead>\n",
       "  <tbody>\n",
       "    <tr>\n",
       "      <th>0</th>\n",
       "      <td>-122.23</td>\n",
       "      <td>37.88</td>\n",
       "      <td>41.0</td>\n",
       "      <td>880.0</td>\n",
       "      <td>129.0</td>\n",
       "      <td>322.0</td>\n",
       "      <td>126.0</td>\n",
       "      <td>8.3252</td>\n",
       "      <td>452600.0</td>\n",
       "      <td>NEAR BAY</td>\n",
       "    </tr>\n",
       "    <tr>\n",
       "      <th>1</th>\n",
       "      <td>-122.22</td>\n",
       "      <td>37.86</td>\n",
       "      <td>21.0</td>\n",
       "      <td>7099.0</td>\n",
       "      <td>1106.0</td>\n",
       "      <td>2401.0</td>\n",
       "      <td>1138.0</td>\n",
       "      <td>8.3014</td>\n",
       "      <td>358500.0</td>\n",
       "      <td>NEAR BAY</td>\n",
       "    </tr>\n",
       "    <tr>\n",
       "      <th>2</th>\n",
       "      <td>-122.24</td>\n",
       "      <td>37.85</td>\n",
       "      <td>52.0</td>\n",
       "      <td>1467.0</td>\n",
       "      <td>190.0</td>\n",
       "      <td>496.0</td>\n",
       "      <td>177.0</td>\n",
       "      <td>7.2574</td>\n",
       "      <td>352100.0</td>\n",
       "      <td>NEAR BAY</td>\n",
       "    </tr>\n",
       "    <tr>\n",
       "      <th>3</th>\n",
       "      <td>-122.25</td>\n",
       "      <td>37.85</td>\n",
       "      <td>52.0</td>\n",
       "      <td>1274.0</td>\n",
       "      <td>235.0</td>\n",
       "      <td>558.0</td>\n",
       "      <td>219.0</td>\n",
       "      <td>5.6431</td>\n",
       "      <td>341300.0</td>\n",
       "      <td>NEAR BAY</td>\n",
       "    </tr>\n",
       "    <tr>\n",
       "      <th>4</th>\n",
       "      <td>-122.25</td>\n",
       "      <td>37.85</td>\n",
       "      <td>52.0</td>\n",
       "      <td>1627.0</td>\n",
       "      <td>280.0</td>\n",
       "      <td>565.0</td>\n",
       "      <td>259.0</td>\n",
       "      <td>3.8462</td>\n",
       "      <td>342200.0</td>\n",
       "      <td>NEAR BAY</td>\n",
       "    </tr>\n",
       "  </tbody>\n",
       "</table>\n",
       "</div>"
      ],
      "text/plain": [
       "   longitude  latitude  housing_median_age  total_rooms  total_bedrooms  \\\n",
       "0    -122.23     37.88                41.0        880.0           129.0   \n",
       "1    -122.22     37.86                21.0       7099.0          1106.0   \n",
       "2    -122.24     37.85                52.0       1467.0           190.0   \n",
       "3    -122.25     37.85                52.0       1274.0           235.0   \n",
       "4    -122.25     37.85                52.0       1627.0           280.0   \n",
       "\n",
       "   population  households  median_income  median_house_value ocean_proximity  \n",
       "0       322.0       126.0         8.3252            452600.0        NEAR BAY  \n",
       "1      2401.0      1138.0         8.3014            358500.0        NEAR BAY  \n",
       "2       496.0       177.0         7.2574            352100.0        NEAR BAY  \n",
       "3       558.0       219.0         5.6431            341300.0        NEAR BAY  \n",
       "4       565.0       259.0         3.8462            342200.0        NEAR BAY  "
      ]
     },
     "execution_count": 4,
     "metadata": {},
     "output_type": "execute_result"
    }
   ],
   "source": [
    "raw_df.head()"
   ]
  },
  {
   "cell_type": "code",
   "execution_count": 5,
   "id": "8d605b84-50b6-4dd8-847b-987aec902e8c",
   "metadata": {},
   "outputs": [
    {
     "name": "stdout",
     "output_type": "stream",
     "text": [
      "<class 'pandas.core.frame.DataFrame'>\n",
      "RangeIndex: 20640 entries, 0 to 20639\n",
      "Data columns (total 10 columns):\n",
      " #   Column              Non-Null Count  Dtype  \n",
      "---  ------              --------------  -----  \n",
      " 0   longitude           20640 non-null  float64\n",
      " 1   latitude            20640 non-null  float64\n",
      " 2   housing_median_age  20640 non-null  float64\n",
      " 3   total_rooms         20640 non-null  float64\n",
      " 4   total_bedrooms      20433 non-null  float64\n",
      " 5   population          20640 non-null  float64\n",
      " 6   households          20640 non-null  float64\n",
      " 7   median_income       20640 non-null  float64\n",
      " 8   median_house_value  20640 non-null  float64\n",
      " 9   ocean_proximity     20640 non-null  object \n",
      "dtypes: float64(9), object(1)\n",
      "memory usage: 1.6+ MB\n"
     ]
    }
   ],
   "source": [
    "raw_df.info()"
   ]
  },
  {
   "cell_type": "code",
   "execution_count": 6,
   "id": "89b3c6df-0ef7-43be-a6ff-3760b669598e",
   "metadata": {},
   "outputs": [
    {
     "name": "stdout",
     "output_type": "stream",
     "text": [
      "<class 'pandas.core.frame.DataFrame'>\n",
      "Index: 20433 entries, 0 to 20639\n",
      "Data columns (total 10 columns):\n",
      " #   Column              Non-Null Count  Dtype  \n",
      "---  ------              --------------  -----  \n",
      " 0   longitude           20433 non-null  float64\n",
      " 1   latitude            20433 non-null  float64\n",
      " 2   housing_median_age  20433 non-null  float64\n",
      " 3   total_rooms         20433 non-null  float64\n",
      " 4   total_bedrooms      20433 non-null  float64\n",
      " 5   population          20433 non-null  float64\n",
      " 6   households          20433 non-null  float64\n",
      " 7   median_income       20433 non-null  float64\n",
      " 8   median_house_value  20433 non-null  float64\n",
      " 9   ocean_proximity     20433 non-null  object \n",
      "dtypes: float64(9), object(1)\n",
      "memory usage: 1.7+ MB\n"
     ]
    }
   ],
   "source": [
    "df = raw_df.dropna()\n",
    "df.info()"
   ]
  },
  {
   "cell_type": "markdown",
   "id": "33d4facb",
   "metadata": {},
   "source": [
    "Total_bedrooms is missing values so we are dropping those columns to clean the dataset"
   ]
  },
  {
   "cell_type": "markdown",
   "id": "34808d90-1edc-47ce-97d0-8ef4ec5b5521",
   "metadata": {},
   "source": [
    "### Remove all houses where price is 500001"
   ]
  },
  {
   "cell_type": "code",
   "execution_count": 7,
   "id": "6448493e-cc75-4c7e-bfd4-047ec74c8307",
   "metadata": {},
   "outputs": [],
   "source": [
    "#less_than_500001 = df[df[\"median_house_value\"] <= 500000]\n",
    "# Check so that it worked\n",
    "#less_than_500001[less_than_500001[\"median_house_value\"] > 500000]"
   ]
  },
  {
   "cell_type": "code",
   "execution_count": 8,
   "id": "6b26f475-e9d6-4c93-8685-ac0f594f2910",
   "metadata": {},
   "outputs": [],
   "source": [
    "#df = less_than_500001\n",
    "#df"
   ]
  },
  {
   "cell_type": "markdown",
   "id": "a2689b60-c5ad-4c5d-b13f-2b86fe7306d8",
   "metadata": {},
   "source": [
    "### Pontus ger sig på något"
   ]
  },
  {
   "cell_type": "code",
   "execution_count": 9,
   "id": "3e6347b9-b1c1-42dc-bb71-ef6313a03a45",
   "metadata": {},
   "outputs": [
    {
     "name": "stdout",
     "output_type": "stream",
     "text": [
      "Index(['ocean_proximity'], dtype='object')\n"
     ]
    }
   ],
   "source": [
    "# Kontrollera om det finns några kategoriska kolumner kvar\n",
    "categorical_cols = housing.select_dtypes(include=['object']).columns\n",
    "print(categorical_cols)\n",
    "\n",
    "# Omvandla kategoriska variabler till numeriska med pd.get_dummies\n",
    "housing = pd.get_dummies(housing, columns=categorical_cols)"
   ]
  },
  {
   "cell_type": "code",
   "execution_count": 10,
   "id": "eaeae4db-f0d5-497d-a6cc-1a8d393ef6e7",
   "metadata": {},
   "outputs": [
    {
     "name": "stdout",
     "output_type": "stream",
     "text": [
      "Series([], dtype: int64)\n"
     ]
    }
   ],
   "source": [
    "# Fyll i saknade värden med medianvärden\n",
    "housing = housing.fillna(housing.median())\n",
    "\n",
    "# Kontrollera att alla saknade värden har fyllts i\n",
    "missing_values = housing.isnull().sum()\n",
    "print(missing_values[missing_values > 0])"
   ]
  },
  {
   "cell_type": "code",
   "execution_count": null,
   "id": "5b93ed3f-8513-4743-a513-9514a4369b88",
   "metadata": {},
   "outputs": [],
   "source": [
    "# Lägg till en binär variabel som indikerar om priset är begränsat\n",
    "housing['capped'] = (housing['median_house_value'] == 500001).astype(int)\n",
    "\n",
    "# Uppdatera features och target variabler\n",
    "X = housing.drop('median_house_value', axis=1)\n",
    "y = housing['median_house_value']\n",
    "\n",
    "# Dela upp data i tränings- och testset\n",
    "from sklearn.model_selection import train_test_split\n",
    "X_train, X_test, y_train, y_test = train_test_split(X, y, test_size=0.2, random_state=42)\n",
    "\n",
    "# Träna om modellen med den nya variabeln\n",
    "from sklearn.ensemble import RandomForestRegressor\n",
    "rf_model = RandomForestRegressor(n_estimators=100, random_state=42)\n",
    "rf_model.fit(X_train, y_train)\n",
    "rf_y_pred = rf_model.predict(X_test)\n",
    "\n",
    "# Utvärdera den nya modellens prestanda\n",
    "from sklearn.metrics import mean_absolute_error, mean_squared_error, r2_score\n",
    "rf_mae = mean_absolute_error(y_test, rf_y_pred)\n",
    "rf_mse = mean_squared_error(y_test, rf_y_pred)\n",
    "rf_r2 = r2_score(y_test, rf_y_pred)\n",
    "\n",
    "print(f'MAE: {rf_mae}')\n",
    "print(f'MSE: {rf_mse}')\n",
    "print(f'R²: {rf_r2}')\n",
    "\n",
    "# Undersök hur många hus som har priset 500001\n",
    "capped_houses = housing[housing['median_house_value'] == 500001]\n",
    "num_capped_houses = len(capped_houses)\n",
    "total_houses = len(housing)\n",
    "\n",
    "print(f\"Antal hus med priset 500001: {num_capped_houses}\")\n",
    "print(f\"Andel av totala datasetet: {num_capped_houses / total_houses * 100:.2f}%\")\n"
   ]
  },
  {
   "cell_type": "markdown",
   "id": "1bf5a82c-20e6-4fa9-951e-61a05b889caa",
   "metadata": {},
   "source": [
    "### View a graph of all houses"
   ]
  },
  {
   "cell_type": "code",
   "execution_count": null,
   "id": "0853820b-76d3-40c9-9de4-0b9739527a2f",
   "metadata": {},
   "outputs": [],
   "source": [
    "plt.figure(figsize=(10, 10))\n",
    "\n",
    "# Backgroud image\n",
    "background_img = mpimg.imread('./pictures/california-map.jpg')\n",
    "extent = [-124.48, -114.13, 32.53, 42.01]\n",
    "scale_factor = 1.08  # Adjust the scale factor as needed for the desired enlargement\n",
    "new_extent = [\n",
    "    extent[0] - (extent[1] - extent[0]) * (scale_factor - 1) / 2,\n",
    "    extent[1] + (extent[1] - extent[0]) * (scale_factor - 1) / 2,\n",
    "    extent[2] - (extent[3] - extent[2]) * (scale_factor - 1) / 2,\n",
    "    extent[3] + (extent[3] - extent[2]) * (scale_factor - 1) / 2\n",
    "]\n",
    "plt.imshow(background_img, extent=new_extent, aspect='auto')\n",
    "\n",
    "# Scatter plot\n",
    "scatter = plt.scatter(df['longitude'], df['latitude'], c=df['median_house_value'], cmap='viridis', alpha=0.6)\n",
    "plt.colorbar(scatter, label='Median House Value')\n",
    "plt.xlabel('Longitude')\n",
    "plt.ylabel('Latitude')\n",
    "plt.title('Geographical Distribution of Houses')\n",
    "plt.show()"
   ]
  },
  {
   "cell_type": "code",
   "execution_count": null,
   "id": "7f3cc451",
   "metadata": {},
   "outputs": [],
   "source": [
    "# Histogrammen hjälper till att förstå fördelningen och spridningen av de numeriska variablerna i datasetet.\n",
    "\n",
    "df.hist(bins=54, figsize=(20, 15)) # Skapar histogram för alla numeriska kolumner i df och en figurstorlek på 20x15.\n",
    "\n",
    "for ax in plt.gcf().axes:\n",
    "    ax.set_ylabel('Number of Houses')\n",
    "\n",
    "plt.show()"
   ]
  },
  {
   "cell_type": "code",
   "execution_count": null,
   "id": "158b2ef9",
   "metadata": {},
   "outputs": [],
   "source": [
    "plt.figure(figsize=(12, 8))\n",
    "scatter = plt.scatter(df['median_income'], df['median_house_value'], \n",
    "                      c=df['ocean_proximity'].astype('category').cat.codes, # astype('category').cat.codes konverterar kategoriska värden till numeriska koder för färgning.\n",
    "                      cmap='viridis', alpha=0.6) # Alpha är satt till 0.6 för att hantera överlappande punkter och göra plottet mer läsbart.\n",
    "plt.colorbar(scatter, label='Ocean Proximity') # Genom att använda färg för att visa ocean_proximity kan vi se om närheten till havet påverkar husvärden.\n",
    "plt.xlabel('Median Income (scaled * 10,000)')\n",
    "plt.ylabel('Median House Value ($)')\n",
    "plt.title('Median Income vs Median House Value')\n",
    "plt.grid(True)\n",
    "\n",
    "plt.show()"
   ]
  },
  {
   "cell_type": "markdown",
   "id": "fa6428d6-1c9a-4d7f-9144-3f9bdbca455e",
   "metadata": {},
   "source": [
    "### Convert ocean_proximity to different dummy columns"
   ]
  },
  {
   "cell_type": "code",
   "execution_count": null,
   "id": "071a3781-39bf-439c-80bf-e86c708dd67e",
   "metadata": {},
   "outputs": [],
   "source": [
    "df = df.join(pd.get_dummies(df.ocean_proximity)).drop([\"ocean_proximity\"], axis=1)"
   ]
  },
  {
   "cell_type": "markdown",
   "id": "94f4162e-5a13-45fa-935c-4fdf4e3df2bc",
   "metadata": {},
   "source": [
    "### Heatmap av all correlation"
   ]
  },
  {
   "cell_type": "code",
   "execution_count": null,
   "id": "bb5bb515-071e-4808-93a5-46b936ab28f7",
   "metadata": {},
   "outputs": [],
   "source": [
    "plt.figure(figsize=(15,8))\n",
    "sns.heatmap(df.corr(), annot=True, cmap=\"YlGnBu\")"
   ]
  },
  {
   "cell_type": "markdown",
   "id": "416cfcc4-2ad3-44eb-b692-5b5d05ad3dd1",
   "metadata": {},
   "source": [
    "#### Vi ser här att median_house_value har rätt hög correlation med median_income"
   ]
  },
  {
   "cell_type": "code",
   "execution_count": null,
   "id": "d72dbeb9-66e7-4ad2-8116-15dec92fa077",
   "metadata": {},
   "outputs": [],
   "source": [
    "#X = housing.drop(columns=['median_house_value'], axis=1)\n",
    "#y = housing['median_house_value']\n",
    "#X_train, X_test, y_train,  y_test = train_test_split(X,y, test_size=0.2, random_state=56)"
   ]
  },
  {
   "cell_type": "code",
   "execution_count": null,
   "id": "32ceb8d3-7cc7-43fc-9f66-70a44f85289d",
   "metadata": {},
   "outputs": [],
   "source": [
    "# Assuming df is your DataFrame\n",
    "# Let's select the relevant columns for the features and target variable\n",
    "X = df[['longitude', 'latitude', 'housing_median_age', 'total_rooms', 'population', 'median_income']]\n",
    "y = df['median_house_value'] "
   ]
  },
  {
   "cell_type": "code",
   "execution_count": null,
   "id": "f21c05b5-16d3-4252-9a24-a8d0b80eeb6f",
   "metadata": {},
   "outputs": [],
   "source": [
    "X_train.head()"
   ]
  },
  {
   "cell_type": "code",
   "execution_count": null,
   "id": "aa8070a7-97cf-4e3c-b174-7d9b11ec3372",
   "metadata": {},
   "outputs": [],
   "source": [
    "X_train.describe()"
   ]
  },
  {
   "cell_type": "code",
   "execution_count": null,
   "id": "decfd939-0f1b-4d57-9042-0fdbef1388db",
   "metadata": {},
   "outputs": [],
   "source": [
    "plt.figure(figsize=(5,5))\n",
    "sns.pairplot(housing)\n",
    "plt.show()"
   ]
  },
  {
   "cell_type": "code",
   "execution_count": null,
   "id": "fa9e6b01-088a-4935-82e9-1b8435259988",
   "metadata": {},
   "outputs": [],
   "source": [
    "X_train, X_test, y_train, y_test = train_test_split(X, y, test_size=0.2, random_state=0)\n",
    "\n",
    "print(\"\\nTraining data size:\", X_train.shape)\n",
    "print(\"Testing data size:\", X_test.shape)"
   ]
  },
  {
   "cell_type": "code",
   "execution_count": null,
   "id": "629d73d3-3cfb-471f-b9d0-a4a0eaf92176",
   "metadata": {},
   "outputs": [],
   "source": [
    "# Fit the training data to a Linear Regression model\n",
    "regression_model = LinearRegression()\n",
    "regression_model.fit(X_train, y_train)\n",
    "\n",
    "# Show your regression model's score\n",
    "train_score = regression_model.score(X_train, y_train)\n",
    "test_score = regression_model.score(X_test, y_test)\n",
    "print(f'\\nTraining score: {train_score}')\n",
    "print(f'Testing score: {test_score}')"
   ]
  },
  {
   "cell_type": "code",
   "execution_count": null,
   "id": "001799d2-6bda-4a61-967d-ebb4b81645b7",
   "metadata": {},
   "outputs": [],
   "source": [
    "# Get the coefficients and intercept of the trained regression model\n",
    "coefficients = regression_model.coef_\n",
    "intercept = regression_model.intercept_\n",
    "\n",
    "# Select three samples from the testing set\n",
    "samples_to_predict = X_test\n",
    "\n",
    "# Manually calculate the predictions without using loops\n",
    "predictions = np.dot(samples_to_predict.values, coefficients.reshape(-1, 1)).flatten() + intercept\n",
    "\n",
    "# Get the actual data for the selected samples from the dataset\n",
    "actual_data = y_test\n",
    "\n",
    "# Print the predictions and actual data\n",
    "for pred, actual in zip(predictions, actual_data):\n",
    "    print(\"Prediction:\", pred)\n",
    "    print(\"Actual data:\", actual)\n",
    "    acc = regression_model.score(X_test, y_test)\n",
    "    print(acc*100, '%')\n",
    "    print()"
   ]
  },
  {
   "cell_type": "code",
   "execution_count": null,
   "id": "7d3cd5e5-d348-4c85-bca0-4e06ab52a55e",
   "metadata": {},
   "outputs": [],
   "source": []
  },
  {
   "cell_type": "code",
   "execution_count": null,
   "id": "a695d97f-da23-4f54-98e6-771991370e5c",
   "metadata": {},
   "outputs": [],
   "source": []
  },
  {
   "cell_type": "code",
   "execution_count": null,
   "id": "b3d492fb-81bc-40d0-81d8-ff8602b6fc5c",
   "metadata": {},
   "outputs": [],
   "source": []
  }
 ],
 "metadata": {
  "kernelspec": {
   "display_name": "Python 3 (ipykernel)",
   "language": "python",
   "name": "python3"
  },
  "language_info": {
   "codemirror_mode": {
    "name": "ipython",
    "version": 3
   },
   "file_extension": ".py",
   "mimetype": "text/x-python",
   "name": "python",
   "nbconvert_exporter": "python",
   "pygments_lexer": "ipython3",
   "version": "3.11.7"
  }
 },
 "nbformat": 4,
 "nbformat_minor": 5
}
